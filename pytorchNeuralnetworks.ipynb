{
  "nbformat": 4,
  "nbformat_minor": 0,
  "metadata": {
    "colab": {
      "provenance": [],
      "toc_visible": true,
      "authorship_tag": "ABX9TyMBPYKsvi98V8TWNMjr0gkm",
      "include_colab_link": true
    },
    "kernelspec": {
      "name": "python3",
      "display_name": "Python 3"
    },
    "language_info": {
      "name": "python"
    }
  },
  "cells": [
    {
      "cell_type": "markdown",
      "metadata": {
        "id": "view-in-github",
        "colab_type": "text"
      },
      "source": [
        "<a href=\"https://colab.research.google.com/github/mohammadfaizan76692/AP_assignment/blob/main/pytorchNeuralnetworks.ipynb\" target=\"_parent\"><img src=\"https://colab.research.google.com/assets/colab-badge.svg\" alt=\"Open In Colab\"/></a>"
      ]
    },
    {
      "cell_type": "markdown",
      "source": [
        "Pytorch"
      ],
      "metadata": {
        "id": "C8CnWqavCsU-"
      }
    },
    {
      "cell_type": "code",
      "execution_count": 1,
      "metadata": {
        "id": "vU-ToYheAnIz"
      },
      "outputs": [],
      "source": [
        "import torch"
      ]
    },
    {
      "cell_type": "code",
      "source": [
        "x = torch.Tensor([5,3])\n",
        "y = torch.Tensor([3,4])\n",
        "print(x*y)"
      ],
      "metadata": {
        "colab": {
          "base_uri": "https://localhost:8080/"
        },
        "id": "Vi37N15wBQIO",
        "outputId": "cc1fbe57-ecab-4e05-c200-4583c96535a5"
      },
      "execution_count": 3,
      "outputs": [
        {
          "output_type": "stream",
          "name": "stdout",
          "text": [
            "tensor([15., 12.])\n"
          ]
        }
      ]
    },
    {
      "cell_type": "code",
      "source": [
        "z = torch.zeros([2,2])\n",
        "print(z)"
      ],
      "metadata": {
        "colab": {
          "base_uri": "https://localhost:8080/"
        },
        "id": "eaOz5AxMBmZb",
        "outputId": "8aa99d70-b9b5-4027-f5e5-54bcb205fbdf"
      },
      "execution_count": 4,
      "outputs": [
        {
          "output_type": "stream",
          "name": "stdout",
          "text": [
            "tensor([[0., 0.],\n",
            "        [0., 0.]])\n"
          ]
        }
      ]
    },
    {
      "cell_type": "code",
      "source": [
        "z.shape"
      ],
      "metadata": {
        "colab": {
          "base_uri": "https://localhost:8080/"
        },
        "id": "i5mBJ1n2CCsx",
        "outputId": "703a5b01-7702-4184-fbb4-3b599075dbb8"
      },
      "execution_count": 5,
      "outputs": [
        {
          "output_type": "execute_result",
          "data": {
            "text/plain": [
              "torch.Size([2, 2])"
            ]
          },
          "metadata": {},
          "execution_count": 5
        }
      ]
    },
    {
      "cell_type": "code",
      "source": [
        "y = torch.rand([2,4])"
      ],
      "metadata": {
        "id": "kNXSUfmcCHZg"
      },
      "execution_count": 6,
      "outputs": []
    },
    {
      "cell_type": "code",
      "source": [
        "print(y)"
      ],
      "metadata": {
        "colab": {
          "base_uri": "https://localhost:8080/"
        },
        "id": "p_x-4nBrCRaO",
        "outputId": "658325d8-2ebc-47a0-aa4c-797700c164c0"
      },
      "execution_count": 7,
      "outputs": [
        {
          "output_type": "stream",
          "name": "stdout",
          "text": [
            "tensor([[0.8125, 0.2825, 0.8362, 0.9198],\n",
            "        [0.6116, 0.0683, 0.3277, 0.1112]])\n"
          ]
        }
      ]
    },
    {
      "cell_type": "markdown",
      "source": [
        "## **Reshaping in pytorch by function view**"
      ],
      "metadata": {
        "id": "CznIRv6wC0OW"
      }
    },
    {
      "cell_type": "code",
      "source": [
        "y.view([1,8])"
      ],
      "metadata": {
        "colab": {
          "base_uri": "https://localhost:8080/"
        },
        "id": "k8q3xIN2CSgp",
        "outputId": "e502f516-fe24-4d94-b47e-588911293d4b"
      },
      "execution_count": 8,
      "outputs": [
        {
          "output_type": "execute_result",
          "data": {
            "text/plain": [
              "tensor([[0.8125, 0.2825, 0.8362, 0.9198, 0.6116, 0.0683, 0.3277, 0.1112]])"
            ]
          },
          "metadata": {},
          "execution_count": 8
        }
      ]
    },
    {
      "cell_type": "code",
      "source": [
        "y"
      ],
      "metadata": {
        "colab": {
          "base_uri": "https://localhost:8080/"
        },
        "id": "GhQzf4FRDvAM",
        "outputId": "59f993db-0e9f-44e3-fca0-1335240b9b7b"
      },
      "execution_count": 9,
      "outputs": [
        {
          "output_type": "execute_result",
          "data": {
            "text/plain": [
              "tensor([[0.8125, 0.2825, 0.8362, 0.9198],\n",
              "        [0.6116, 0.0683, 0.3277, 0.1112]])"
            ]
          },
          "metadata": {},
          "execution_count": 9
        }
      ]
    },
    {
      "cell_type": "code",
      "source": [
        "y = y.view([1,8])"
      ],
      "metadata": {
        "id": "NCwjpMinDygL"
      },
      "execution_count": 10,
      "outputs": []
    },
    {
      "cell_type": "markdown",
      "source": [
        "# DeepLearning And Neural Networks with pytorch"
      ],
      "metadata": {
        "id": "LhPqmz9REgTZ"
      }
    },
    {
      "cell_type": "code",
      "source": [
        "import torch\n",
        "import torchvision\n",
        "from torchvision import transforms, datasets"
      ],
      "metadata": {
        "id": "Kc61AKQED1qE"
      },
      "execution_count": 13,
      "outputs": []
    },
    {
      "cell_type": "markdown",
      "source": [],
      "metadata": {
        "id": "WD6T7aIWMZYD"
      }
    },
    {
      "cell_type": "code",
      "source": [
        "train = datasets.MNIST(\"\",train=True,download=True,transform=transforms.Compose([transforms.ToTensor()]))\n",
        "test = datasets.MNIST(\"\",train=False,download=True,transform=transforms.Compose([transforms.ToTensor()]))"
      ],
      "metadata": {
        "id": "iMFt1Pa9FJyt"
      },
      "execution_count": 55,
      "outputs": []
    },
    {
      "cell_type": "code",
      "source": [
        "trainset = torch.utils.data.DataLoader(train,batch_size=10, shuffle =True) \n",
        "testset = torch.utils.data.DataLoader(test,batch_size=10, shuffle =True) "
      ],
      "metadata": {
        "id": "FMUXCNDqMids"
      },
      "execution_count": 56,
      "outputs": []
    },
    {
      "cell_type": "code",
      "source": [
        "for data in trainset:\n",
        "    print(data)\n",
        "    break\n"
      ],
      "metadata": {
        "colab": {
          "base_uri": "https://localhost:8080/"
        },
        "id": "K6xg7VIKQBTY",
        "outputId": "117d31cd-c412-474c-a840-2b71a6bdc5fb"
      },
      "execution_count": 57,
      "outputs": [
        {
          "output_type": "stream",
          "name": "stdout",
          "text": [
            "[tensor([[[[0., 0., 0.,  ..., 0., 0., 0.],\n",
            "          [0., 0., 0.,  ..., 0., 0., 0.],\n",
            "          [0., 0., 0.,  ..., 0., 0., 0.],\n",
            "          ...,\n",
            "          [0., 0., 0.,  ..., 0., 0., 0.],\n",
            "          [0., 0., 0.,  ..., 0., 0., 0.],\n",
            "          [0., 0., 0.,  ..., 0., 0., 0.]]],\n",
            "\n",
            "\n",
            "        [[[0., 0., 0.,  ..., 0., 0., 0.],\n",
            "          [0., 0., 0.,  ..., 0., 0., 0.],\n",
            "          [0., 0., 0.,  ..., 0., 0., 0.],\n",
            "          ...,\n",
            "          [0., 0., 0.,  ..., 0., 0., 0.],\n",
            "          [0., 0., 0.,  ..., 0., 0., 0.],\n",
            "          [0., 0., 0.,  ..., 0., 0., 0.]]],\n",
            "\n",
            "\n",
            "        [[[0., 0., 0.,  ..., 0., 0., 0.],\n",
            "          [0., 0., 0.,  ..., 0., 0., 0.],\n",
            "          [0., 0., 0.,  ..., 0., 0., 0.],\n",
            "          ...,\n",
            "          [0., 0., 0.,  ..., 0., 0., 0.],\n",
            "          [0., 0., 0.,  ..., 0., 0., 0.],\n",
            "          [0., 0., 0.,  ..., 0., 0., 0.]]],\n",
            "\n",
            "\n",
            "        ...,\n",
            "\n",
            "\n",
            "        [[[0., 0., 0.,  ..., 0., 0., 0.],\n",
            "          [0., 0., 0.,  ..., 0., 0., 0.],\n",
            "          [0., 0., 0.,  ..., 0., 0., 0.],\n",
            "          ...,\n",
            "          [0., 0., 0.,  ..., 0., 0., 0.],\n",
            "          [0., 0., 0.,  ..., 0., 0., 0.],\n",
            "          [0., 0., 0.,  ..., 0., 0., 0.]]],\n",
            "\n",
            "\n",
            "        [[[0., 0., 0.,  ..., 0., 0., 0.],\n",
            "          [0., 0., 0.,  ..., 0., 0., 0.],\n",
            "          [0., 0., 0.,  ..., 0., 0., 0.],\n",
            "          ...,\n",
            "          [0., 0., 0.,  ..., 0., 0., 0.],\n",
            "          [0., 0., 0.,  ..., 0., 0., 0.],\n",
            "          [0., 0., 0.,  ..., 0., 0., 0.]]],\n",
            "\n",
            "\n",
            "        [[[0., 0., 0.,  ..., 0., 0., 0.],\n",
            "          [0., 0., 0.,  ..., 0., 0., 0.],\n",
            "          [0., 0., 0.,  ..., 0., 0., 0.],\n",
            "          ...,\n",
            "          [0., 0., 0.,  ..., 0., 0., 0.],\n",
            "          [0., 0., 0.,  ..., 0., 0., 0.],\n",
            "          [0., 0., 0.,  ..., 0., 0., 0.]]]]), tensor([3, 6, 5, 0, 7, 5, 3, 4, 1, 2])]\n"
          ]
        }
      ]
    },
    {
      "cell_type": "code",
      "source": [
        "x,y = data[0][0],data[1][0]"
      ],
      "metadata": {
        "id": "F-jwz11UQahj"
      },
      "execution_count": 58,
      "outputs": []
    },
    {
      "cell_type": "code",
      "source": [
        "import matplotlib.pyplot as plt\n",
        "plt.imshow(data[0][0].view(28,28))\n",
        "plt.show"
      ],
      "metadata": {
        "colab": {
          "base_uri": "https://localhost:8080/",
          "height": 282
        },
        "id": "NLAMKiDjQw96",
        "outputId": "233ae712-89ef-4c32-f63d-33590aeea647"
      },
      "execution_count": 59,
      "outputs": [
        {
          "output_type": "execute_result",
          "data": {
            "text/plain": [
              "<function matplotlib.pyplot.show(*args, **kw)>"
            ]
          },
          "metadata": {},
          "execution_count": 59
        },
        {
          "output_type": "display_data",
          "data": {
            "text/plain": [
              "<Figure size 432x288 with 1 Axes>"
            ],
            "image/png": "[encoded data removed]"
          },
          "metadata": {
            "needs_background": "light"
          }
        }
      ]
    },
    {
      "cell_type": "code",
      "source": [
        "data[0][0].shape"
      ],
      "metadata": {
        "colab": {
          "base_uri": "https://localhost:8080/"
        },
        "id": "oaWk45YKRjPn",
        "outputId": "8424e260-9621-40bf-a90e-3c6d02d554d7"
      },
      "execution_count": 60,
      "outputs": [
        {
          "output_type": "execute_result",
          "data": {
            "text/plain": [
              "torch.Size([1, 28, 28])"
            ]
          },
          "metadata": {},
          "execution_count": 60
        }
      ]
    },
    {
      "cell_type": "markdown",
      "source": [],
      "metadata": {
        "id": "OuTlYf0RSTcV"
      }
    },
    {
      "cell_type": "markdown",
      "source": [
        "# We want balaced data set \n",
        "# balanced = each class have good amount of samples"
      ],
      "metadata": {
        "id": "6ZXXajlmSTjN"
      }
    },
    {
      "cell_type": "code",
      "source": [
        "total = 0;\n",
        "counter_dict = {0:0,1:0,2:0,3:0,4:0,5:0,6:0,7:0,8:0,9:0}\n",
        "for data in trainset:\n",
        "    Xs,ys  = data\n",
        "    for y in ys:\n",
        "      counter_dict[int(y)] +=1\n",
        "      total+=1\n",
        "\n",
        "print(counter_dict)\n"
      ],
      "metadata": {
        "colab": {
          "base_uri": "https://localhost:8080/"
        },
        "id": "lbhMz7VMRpfM",
        "outputId": "5329e7e4-3aec-4d74-f00b-f872d2587415"
      },
      "execution_count": 61,
      "outputs": [
        {
          "output_type": "stream",
          "name": "stdout",
          "text": [
            "{0: 5923, 1: 6742, 2: 5958, 3: 6131, 4: 5842, 5: 5421, 6: 5918, 7: 6265, 8: 5851, 9: 5949}\n"
          ]
        }
      ]
    },
    {
      "cell_type": "code",
      "source": [
        "for i in counter_dict:\n",
        "    print(i,\": \",(counter_dict[i]/total)*100)"
      ],
      "metadata": {
        "colab": {
          "base_uri": "https://localhost:8080/"
        },
        "id": "8ucc4zuBTniY",
        "outputId": "38134089-0702-4ea5-bef9-18f5a13d7c74"
      },
      "execution_count": 62,
      "outputs": [
        {
          "output_type": "stream",
          "name": "stdout",
          "text": [
            "0 :  9.871666666666666\n",
            "1 :  11.236666666666666\n",
            "2 :  9.93\n",
            "3 :  10.218333333333334\n",
            "4 :  9.736666666666666\n",
            "5 :  9.035\n",
            "6 :  9.863333333333333\n",
            "7 :  10.441666666666666\n",
            "8 :  9.751666666666667\n",
            "9 :  9.915000000000001\n"
          ]
        }
      ]
    },
    {
      "cell_type": "markdown",
      "source": [
        "# Building Neural Network"
      ],
      "metadata": {
        "id": "3R4motNpVjH0"
      }
    },
    {
      "cell_type": "code",
      "source": [
        "import torch.nn as nn\n",
        "import torch.nn.functional as F"
      ],
      "metadata": {
        "id": "PcdvuAxAUtNu"
      },
      "execution_count": 63,
      "outputs": []
    },
    {
      "cell_type": "code",
      "source": [
        "class Net(nn.Module):\n",
        "  def __init__(self):\n",
        "    super().__init__()\n",
        "    self.fc1 = nn.Linear(28*28,64)\n",
        "    self.fc2 = nn.Linear(64,64)\n",
        "    self.fc3 = nn.Linear(64,64)\n",
        "    self.fc4 = nn.Linear(64,10)\n",
        "\n",
        "  def forward(self,x):\n",
        "    x = F.relu(self.fc1(x)) \n",
        "    x = F.relu(self.fc2(x)) \n",
        "    x = F.relu(self.fc3(x)) \n",
        "    x = self.fc4(x)\n",
        "    return F.log_softmax(x,dim=1)\n",
        "\n",
        "\n",
        "\n",
        "\n",
        "net = Net()\n",
        "print(net)    \n",
        "     \n",
        "    \n",
        "\n"
      ],
      "metadata": {
        "colab": {
          "base_uri": "https://localhost:8080/"
        },
        "id": "MbUMihgFWZOK",
        "outputId": "05dcc092-9fa8-4558-cb74-3ddb68a115d6"
      },
      "execution_count": 64,
      "outputs": [
        {
          "output_type": "stream",
          "name": "stdout",
          "text": [
            "Net(\n",
            "  (fc1): Linear(in_features=784, out_features=64, bias=True)\n",
            "  (fc2): Linear(in_features=64, out_features=64, bias=True)\n",
            "  (fc3): Linear(in_features=64, out_features=64, bias=True)\n",
            "  (fc4): Linear(in_features=64, out_features=10, bias=True)\n",
            ")\n"
          ]
        }
      ]
    },
    {
      "cell_type": "code",
      "source": [
        "X=torch.rand((28,28))\n",
        "X = X.view(-1,28*28)"
      ],
      "metadata": {
        "id": "fon_HKyOz2gR"
      },
      "execution_count": 65,
      "outputs": []
    },
    {
      "cell_type": "code",
      "source": [
        "output=net(X)"
      ],
      "metadata": {
        "id": "68SOXdDZ0sGT"
      },
      "execution_count": 66,
      "outputs": []
    },
    {
      "cell_type": "code",
      "source": [
        "output"
      ],
      "metadata": {
        "colab": {
          "base_uri": "https://localhost:8080/"
        },
        "id": "prYf12--0xJ8",
        "outputId": "65d817a1-4dfc-48af-88cc-e1600e4f5064"
      },
      "execution_count": 67,
      "outputs": [
        {
          "output_type": "execute_result",
          "data": {
            "text/plain": [
              "tensor([[-2.3525, -2.3031, -2.2873, -2.2938, -2.1571, -2.3692, -2.3321, -2.2613,\n",
              "         -2.3913, -2.2979]], grad_fn=<LogSoftmaxBackward0>)"
            ]
          },
          "metadata": {},
          "execution_count": 67
        }
      ]
    },
    {
      "cell_type": "code",
      "source": [
        "  "
      ],
      "metadata": {
        "id": "7dQGfxPG00AI"
      },
      "execution_count": 67,
      "outputs": []
    },
    {
      "cell_type": "code",
      "source": [
        "list =[1,2,3,4]\n",
        "for i in range(3):\n",
        "    for data in list:\n",
        "      y = data\n",
        "      print(y)\n",
        "      break;"
      ],
      "metadata": {
        "colab": {
          "base_uri": "https://localhost:8080/"
        },
        "id": "0DBTDWhF2g9c",
        "outputId": "56263b6a-b1ac-4e11-f4bb-bb166ad73a6a"
      },
      "execution_count": 68,
      "outputs": [
        {
          "output_type": "stream",
          "name": "stdout",
          "text": [
            "1\n",
            "1\n",
            "1\n"
          ]
        }
      ]
    },
    {
      "cell_type": "code",
      "source": [
        "import torch.optim as optim\n",
        "\n",
        "optimizer = optim.Adam(net.parameters(),lr = 0.001)\n",
        "\n",
        "epochs = 5;\n",
        "for epoch in range(epochs):\n",
        "    for data in trainset:\n",
        "        X,y = data\n",
        "        net.zero_grad()\n",
        "        output = net(X.view(-1,28*28))\n",
        "        loss = F.nll_loss(output,y) #it is loss function\n",
        "        loss.backward()\n",
        "        optimizer.step()\n",
        "    print(loss)    "
      ],
      "metadata": {
        "colab": {
          "base_uri": "https://localhost:8080/"
        },
        "id": "kozHHGBM60x2",
        "outputId": "a75d4d84-2299-4cf1-9ffd-1058ec31ab4e"
      },
      "execution_count": 69,
      "outputs": [
        {
          "output_type": "stream",
          "name": "stdout",
          "text": [
            "tensor(0.0607, grad_fn=<NllLossBackward0>)\n",
            "tensor(0.0074, grad_fn=<NllLossBackward0>)\n",
            "tensor(0.4219, grad_fn=<NllLossBackward0>)\n",
            "tensor(0.4734, grad_fn=<NllLossBackward0>)\n",
            "tensor(0.0005, grad_fn=<NllLossBackward0>)\n"
          ]
        }
      ]
    },
    {
      "cell_type": "code",
      "source": [
        "correct=0\n",
        "total= 0\n",
        "\n",
        "with torch.no_grad():\n",
        "  for data in testset:\n",
        "    X,y = data\n",
        "    output = net(X.view(-1,784))\n",
        "    for idx , i in enumerate(output):\n",
        "        if torch.argmax(i) == y[idx]:\n",
        "            correct+=1\n",
        "        total+=1\n",
        "\n",
        "\n",
        "print(\"Accuracy: \",round(correct/total,3))\n"
      ],
      "metadata": {
        "colab": {
          "base_uri": "https://localhost:8080/"
        },
        "id": "JTEukuqdBqN3",
        "outputId": "5d911996-f7d9-4b0f-8c81-0ed031a5a47e"
      },
      "execution_count": 70,
      "outputs": [
        {
          "output_type": "stream",
          "name": "stdout",
          "text": [
            "Accuracy:  0.972\n"
          ]
        }
      ]
    },
    {
      "cell_type": "code",
      "source": [
        "import matplotlib.pyplot as plt\n",
        "plt.imshow(X[8].view(28,28))\n",
        "plt.show"
      ],
      "metadata": {
        "colab": {
          "base_uri": "https://localhost:8080/",
          "height": 282
        },
        "id": "rmRQzp53DnM7",
        "outputId": "9739b182-a0c4-43e9-90ab-b91cec27aca8"
      },
      "execution_count": 80,
      "outputs": [
        {
          "output_type": "execute_result",
          "data": {
            "text/plain": [
              "<function matplotlib.pyplot.show(*args, **kw)>"
            ]
          },
          "metadata": {},
          "execution_count": 80
        },
        {
          "output_type": "display_data",
          "data": {
            "text/plain": [
              "<Figure size 432x288 with 1 Axes>"
            ],
            "image/png": "[encoded data removed]"
          },
          "metadata": {
            "needs_background": "light"
          }
        }
      ]
    },
    {
      "cell_type": "code",
      "source": [
        "print(torch.argmax(net(X[8].view(-1,784))))"
      ],
      "metadata": {
        "colab": {
          "base_uri": "https://localhost:8080/"
        },
        "id": "W-1rOVYcEoMc",
        "outputId": "dba111de-d024-4a09-9ddd-52025f56e898"
      },
      "execution_count": 81,
      "outputs": [
        {
          "output_type": "stream",
          "name": "stdout",
          "text": [
            "tensor(0)\n"
          ]
        }
      ]
    },
    {
      "cell_type": "code",
      "source": [
        "  "
      ],
      "metadata": {
        "id": "UL_e0m3cEzhE"
      },
      "execution_count": null,
      "outputs": []
    }
  ]
}